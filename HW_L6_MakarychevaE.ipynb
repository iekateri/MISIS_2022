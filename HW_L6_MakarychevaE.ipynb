{
 "cells": [
  {
   "cell_type": "markdown",
   "id": "d14e1c8f",
   "metadata": {},
   "source": [
    "## ДЗ Макарычевой Екатерины"
   ]
  },
  {
   "cell_type": "markdown",
   "id": "dimensional-ministry",
   "metadata": {},
   "source": [
    "Задача 1. Напишите программу с классом Student, в котором есть три атрибута: name, groupNumber и age. По умолчанию name = Ivan, age = 18, groupNumber = 10A. Необходимо создать пять методов: getName, getAge, getGroupNumber, setNameAge, setGroupNumber. Метод getName нужен для получения данных об имени конкретного студента, метод getAge нужен для получения данных о возрасте конкретного студента, vетод setGroupNumberнужен для получения данных о номере группы конкретного студента. Метод SetNameAge позволяет изменить данные атрибутов установленных по умолчанию, метод setGroupNumber позволяет изменить номер группы установленный по умолчанию. В программе необходимо создать пять экземпляров класса Student, установить им разные имена, возраст и номер группы.\n",
    "\n"
   ]
  },
  {
   "cell_type": "code",
   "execution_count": 1,
   "id": "e903e26c",
   "metadata": {},
   "outputs": [],
   "source": [
    "class Student:\n",
    "    def __init__(self, name='Ivan', groupNumber='10A', age=18):\n",
    "        self.name = name\n",
    "        self.groupNumber = groupNumber\n",
    "        self.age = age\n",
    "        \n",
    "    def getName(self):\n",
    "        return 'Имя студента: %s' % self.name\n",
    "    \n",
    "    def getAge(self):\n",
    "        return 'Возраст студента: %s' % self.age\n",
    "    \n",
    "    def getGroupNumber(self):\n",
    "        return 'Группа студента: %s' % self.groupNumber\n",
    "    \n",
    "    def setNameAge(self, *args):\n",
    "        self.name = args[0]\n",
    "        if len(args) == 2:\n",
    "            self.age = args[1]\n",
    "        \n",
    "    def setGroupNumber(self, new_group):\n",
    "        self.groupNumber = new_group"
   ]
  },
  {
   "cell_type": "code",
   "execution_count": 2,
   "id": "fece1bcb",
   "metadata": {},
   "outputs": [
    {
     "name": "stdout",
     "output_type": "stream",
     "text": [
      "Имя студента: Екатерина \n",
      " Возраст студента: 17\n",
      "\n",
      "Изменить имя и возраст:\n",
      "\n",
      "Имя студента: Ольга \n",
      " Возраст студента: 22\n"
     ]
    }
   ],
   "source": [
    "s1 = Student('Екатерина', '10Б', 17)\n",
    "s2 = Student('Алина', '9А', 16)\n",
    "s3 = Student('Марина', '11А', 17)\n",
    "s4 = Student('Анастасия', '11Б', 17)\n",
    "s5 = Student('Яна', '9Б', 15)\n",
    "\n",
    "print(s1.getName(), \"\\n\", s1.getAge())\n",
    "print(\"\\nИзменить имя и возраст:\\n\")\n",
    "s1.setNameAge('Ольга', 22)\n",
    "print(s1.getName(), \"\\n\", s1.getAge())"
   ]
  },
  {
   "cell_type": "markdown",
   "id": "quality-positive",
   "metadata": {},
   "source": [
    "Задача 2. Напишите программу с классом Car. Создайте конструктор класса Car. Создайте атрибуты класса Car — color (цвет), type (тип), year (год). Напишите пять методов. Первый — запуск автомобиля, при его вызове выводится сообщение «Автомобиль заведен». Второй — отключение автомобиля — выводит сообщение «Автомобиль заглушен». Третий — присвоение автомобилю года выпуска. Четвертый метод — присвоение автомобилю типа. Пятый — присвоение автомобилю цвета.\n",
    "\n"
   ]
  },
  {
   "cell_type": "code",
   "execution_count": 3,
   "id": "bf077156",
   "metadata": {},
   "outputs": [],
   "source": [
    "class Car:\n",
    "    def __init__(self, color = 'красный', type_car = 'хэтчбэк', year = '2022'):\n",
    "        self.color = color\n",
    "        self.type_car = type_car\n",
    "        self.year = year\n",
    "\n",
    "    def start_car(self):\n",
    "        print('Автомобиль заведен.')\n",
    "    \n",
    "    def finished_car(self):\n",
    "        print('Автомобиль заглушен.')\n",
    "    \n",
    "    def setYear(self, new_year):\n",
    "        self.year = new_year\n",
    "        print(f'{self.year} года')\n",
    "        \n",
    "    def setType_car(self, new_type_car):\n",
    "        self.type_car = new_type_car\n",
    "        print(f'Типа: {self.type_car}')\n",
    "        \n",
    "    def setColor(self, new_color):\n",
    "        self.color = new_color\n",
    "        print(f'Цвет - {self.color}')"
   ]
  },
  {
   "cell_type": "code",
   "execution_count": 4,
   "id": "f11b8703",
   "metadata": {},
   "outputs": [],
   "source": [
    "rio = Car()"
   ]
  },
  {
   "cell_type": "code",
   "execution_count": 5,
   "id": "2394b365",
   "metadata": {},
   "outputs": [
    {
     "name": "stdout",
     "output_type": "stream",
     "text": [
      "Автомобиль заведен.\n",
      "2018 года\n",
      "Типа: седан\n",
      "Цвет - белый\n"
     ]
    }
   ],
   "source": [
    "rio.start_car()\n",
    "rio.setYear('2018')\n",
    "rio.setType_car('седан')\n",
    "rio.setColor('белый')"
   ]
  },
  {
   "cell_type": "markdown",
   "id": "familiar-rachel",
   "metadata": {},
   "source": [
    "Задача 3. Допишите функцию Nutrion"
   ]
  },
  {
   "cell_type": "code",
   "execution_count": 6,
   "id": "0923f6f7",
   "metadata": {},
   "outputs": [],
   "source": [
    "class NutritionInfo:\n",
    "    def __init__(self, proteins, carbs, fats):\n",
    "        self.proteins = proteins\n",
    "        self.carbs = carbs\n",
    "        self.fats = fats\n",
    "    \n",
    "    def __add__(self, other):\n",
    "        return NutritionInfo(self.proteins + other.proteins, self.carbs + other.carbs, self.fats + other.fats)\n",
    "    \n",
    "    def __mul__(self, other):\n",
    "        return NutritionInfo(self.proteins * other, self.carbs * other, self.fats * other)\n",
    "    \n",
    "    def __str__(self):\n",
    "        return f\"Nutrition p {self.proteins}, c {self.carbs}, f {self.fats}\"\n",
    "        \n",
    "    def energy(self):\n",
    "        return int(self.fats * 9 + (self.carbs + self.proteins) * 4.2)"
   ]
  },
  {
   "cell_type": "code",
   "execution_count": 7,
   "id": "bb3c5b03",
   "metadata": {},
   "outputs": [
    {
     "name": "stdout",
     "output_type": "stream",
     "text": [
      "Энергия яблока:  39\n",
      "Nutrition p 1, c 2, f 3\n",
      "Энергия яблока:  118\n",
      "Nutrition p 3, c 6, f 9\n"
     ]
    }
   ],
   "source": [
    "apple = NutritionInfo(1, 2, 3)\n",
    "print(\"Энергия яблока: \", apple.energy())\n",
    "print(apple)\n",
    "apple = apple * 3\n",
    "print(\"Энергия яблока: \", apple.energy())\n",
    "print(apple)"
   ]
  }
 ],
 "metadata": {
  "kernelspec": {
   "display_name": "Python 3 (ipykernel)",
   "language": "python",
   "name": "python3"
  },
  "language_info": {
   "codemirror_mode": {
    "name": "ipython",
    "version": 3
   },
   "file_extension": ".py",
   "mimetype": "text/x-python",
   "name": "python",
   "nbconvert_exporter": "python",
   "pygments_lexer": "ipython3",
   "version": "3.9.13"
  }
 },
 "nbformat": 4,
 "nbformat_minor": 5
}
