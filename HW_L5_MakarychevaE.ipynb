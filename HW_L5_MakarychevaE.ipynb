{
 "cells": [
  {
   "cell_type": "markdown",
   "id": "horizontal-logic",
   "metadata": {},
   "source": [
    "## ДЗ Макарычевой Екатерины"
   ]
  },
  {
   "cell_type": "markdown",
   "id": "large-distribution",
   "metadata": {},
   "source": [
    "#### 1) Средний бал и список отстающих учеников"
   ]
  },
  {
   "cell_type": "code",
   "execution_count": 1,
   "id": "constant-violence",
   "metadata": {},
   "outputs": [
    {
     "name": "stdout",
     "output_type": "stream",
     "text": [
      "Список отстающих учеников:\n",
      "\n",
      "Петров И., оценка - 3\n",
      "Дмитриев Н., оценка - 2\n",
      "Котов Д., оценка - 2\n",
      "Бирюкова Н., оценка - 1\n",
      "Данилов П., оценка - 3\n",
      "Лемонов Ю., оценка - 2\n",
      "\n",
      "Средний балл по студентам: 3.18\n"
     ]
    }
   ],
   "source": [
    "with open(\"students.txt\", \"r\", encoding=\"utf8\") as fileprint:\n",
    "    mylist = fileprint.read().split('\\n')\n",
    "    i = 0\n",
    "    a = 0\n",
    "    b = 0\n",
    "    print(\"Список отстающих учеников:\\n\")\n",
    "    while i < len(mylist):\n",
    "        num = int(mylist[i][-1])\n",
    "        a += num\n",
    "        i += 1\n",
    "        while b < len(mylist):\n",
    "            num = int(mylist[b][-1])\n",
    "            if num < a:\n",
    "                print(f\"{mylist[b][0:-2]}, оценка - {mylist[b][-1]}\")\n",
    "            b += 1\n",
    "    print(f\"\\nСредний балл по студентам: {round(a/len(mylist), 2)}\")"
   ]
  },
  {
   "cell_type": "markdown",
   "id": "mature-guide",
   "metadata": {},
   "source": [
    "#### 2) Посчитать количество определенных слов в файле"
   ]
  },
  {
   "cell_type": "code",
   "execution_count": 2,
   "id": "78f2c073",
   "metadata": {},
   "outputs": [
    {
     "name": "stdout",
     "output_type": "stream",
     "text": [
      "Лекций: 2\n",
      "Практических: 3\n",
      "Лабораторных: 2\n"
     ]
    }
   ],
   "source": [
    "def words(schedule):\n",
    "    splitedschedule = schedule.split()\n",
    "    print(\"Лекций:\", splitedschedule.count(\"(лекц.)\"))\n",
    "    print(\"Практических:\", splitedschedule.count(\"(практ.)\"))\n",
    "    print(\"Лабораторных:\", splitedschedule.count(\"(лаб.)\"))\n",
    "\n",
    "schedule = \"\"\"Понедельник\n",
    "\tФизика (лекц.)\n",
    "\tФизика (лаб.)\n",
    "\tАлгебра (практ.)\n",
    " \n",
    "Вторник\n",
    "\tГеометрия (лекц.)\n",
    "\tФизика (практ.)\n",
    "\tФизика (лаб.)\n",
    "\tФизкультура (практ.)\"\"\"\n",
    "\n",
    "words(schedule)"
   ]
  },
  {
   "cell_type": "markdown",
   "id": "young-prince",
   "metadata": {},
   "source": [
    "#### 3) Откройте Telegram, найдите @BotFather и начните беседу. Отправьте команду /newbot и следуйте инструкциям."
   ]
  },
  {
   "cell_type": "markdown",
   "id": "infrared-hamilton",
   "metadata": {},
   "source": [
    "свой токен;\n",
    "адрес Telegram API (https://api.telegram.org/bot);\n",
    "ссылку на документацию.\n",
    "Обязательно сохраните токен, так как это ключ для взаимодействия с ботом."
   ]
  },
  {
   "cell_type": "markdown",
   "id": "vocational-bikini",
   "metadata": {},
   "source": [
    "Хранение токена должно быть локальным: ни в коем случае не выгружайте его в общий доступ, например в GitHub-репозиторий ."
   ]
  },
  {
   "cell_type": "markdown",
   "id": "cd632e6e",
   "metadata": {},
   "source": [
    "https://t.me/iekateriBot"
   ]
  },
  {
   "cell_type": "markdown",
   "id": "banned-substance",
   "metadata": {},
   "source": [
    "#### 4) Выведите список файлов в указанной директории. например где у вас лежат ваши тетради"
   ]
  },
  {
   "cell_type": "code",
   "execution_count": 3,
   "id": "e7fd1281",
   "metadata": {},
   "outputs": [
    {
     "name": "stdout",
     "output_type": "stream",
     "text": [
      "Текущая директория:\n",
      "1 .git\n",
      "2 .ipynb_checkpoints\n",
      "3 HW_L2_MakarychevaE.ipynb\n",
      "4 HW_L3_MakarychevaE.ipynb\n",
      "5 HW_L4_MakarychevaE.ipynb\n",
      "6 HW_L5_MakarychevaE.ipynb\n",
      "7 L5 (1).ipynb\n",
      "8 L6.ipynb\n",
      "9 PythonBasic\n",
      "10 RHTU\n",
      "11 students.txt\n"
     ]
    }
   ],
   "source": [
    "import os\n",
    "directory = sorted(os.listdir())\n",
    "print(\"Текущая директория:\")\n",
    "for n, item in enumerate(directory):\n",
    "    print(n+1, item) "
   ]
  },
  {
   "cell_type": "markdown",
   "id": "actual-shakespeare",
   "metadata": {},
   "source": [
    "#### 5) Напишите программу, которая принимает текст и выводит два слова: наиболее часто встречающееся и самое длинное."
   ]
  },
  {
   "cell_type": "code",
   "execution_count": 4,
   "id": "82b4b65f",
   "metadata": {},
   "outputs": [],
   "source": [
    "def text(phrase):\n",
    "    count_words = 0\n",
    "    index = 0\n",
    "    mylist = phrase.split()\n",
    "    for i, j in enumerate(mylist):\n",
    "        p = mylist.count(j)\n",
    "        if p > count_words:\n",
    "            count_words = p\n",
    "            index = i\n",
    "    print(f\"Наиболее часто встречающееся: {mylist[index]} \\nCамое длинное: {max(mylist, key=len)}\")"
   ]
  },
  {
   "cell_type": "code",
   "execution_count": 5,
   "id": "7047931e",
   "metadata": {},
   "outputs": [
    {
     "name": "stdout",
     "output_type": "stream",
     "text": [
      "Наиболее часто встречающееся: О \n",
      "Cамое длинное: храброславленный\n"
     ]
    }
   ],
   "source": [
    "text(\"О светозарный мальчик мой! Ты победил в бою! О храброславленный герой, Хвалу тебе пою!\")"
   ]
  }
 ],
 "metadata": {
  "kernelspec": {
   "display_name": "Python 3 (ipykernel)",
   "language": "python",
   "name": "python3"
  },
  "language_info": {
   "codemirror_mode": {
    "name": "ipython",
    "version": 3
   },
   "file_extension": ".py",
   "mimetype": "text/x-python",
   "name": "python",
   "nbconvert_exporter": "python",
   "pygments_lexer": "ipython3",
   "version": "3.9.12"
  }
 },
 "nbformat": 4,
 "nbformat_minor": 5
}
