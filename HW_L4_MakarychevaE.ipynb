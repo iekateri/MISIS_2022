{
 "cells": [
  {
   "cell_type": "markdown",
   "id": "internal-trigger",
   "metadata": {},
   "source": [
    "## ДЗ Макарычевой Екатерины"
   ]
  },
  {
   "cell_type": "markdown",
   "id": "trying-bahrain",
   "metadata": {},
   "source": [
    "#### 1. Напишите функцию, извлекающую корень n-й степени из числа x. По умолчанию def будет извлекать квадратный корень:\n",
    "\n"
   ]
  },
  {
   "cell_type": "code",
   "execution_count": 1,
   "id": "b3a12b25",
   "metadata": {},
   "outputs": [
    {
     "name": "stdout",
     "output_type": "stream",
     "text": [
      "\n",
      "Введите число, из которого нужно извлечь квадратный корень: 9\n",
      "Результат вычисления квадратного корня из 9.0: 3.0\n",
      "\n",
      "Вычислить корень другой степени?\n",
      "Если да - введите 1, если нет - введите 0.\n",
      "Ввод: 1\n",
      "\n",
      "Введите степень корня: 3\n",
      "Результат вычисления корня степени 3.0 из 9.0: 2.08\n"
     ]
    }
   ],
   "source": [
    "def root():\n",
    "    while True:\n",
    "        try:\n",
    "            num = float(input(\"\\nВведите число, из которого нужно извлечь квадратный корень: \"))\n",
    "        except ValueError:\n",
    "            print(\"\\nПроверьте введенные данные!\")\n",
    "            root()\n",
    "        if num >= 0:\n",
    "            print(f\"Результат вычисления квадратного корня из {round(num, 2)}: {round(num ** (1/2), 2)}\")\n",
    "        else:\n",
    "            num = print(\"\\nВведите положительное число!\")\n",
    "            root()\n",
    "        try:\n",
    "            again = int(input(\"\\nВычислить корень другой степени?\\nЕсли да - введите 1, если нет - введите 0.\\nВвод: \"))\n",
    "        except ValueError:\n",
    "            num = print(\"\\nВведите либо 1, либо 0!\")\n",
    "            again = int(input(\"\\nВычислить корень другой степени?\\nЕсли да - введите 1, если нет - введите 0.\\nВвод: \")) #после второго ошибочного вхождения все равно ошибка (как исправить?)\n",
    "        if again == 1:\n",
    "            try:\n",
    "                degree = float(input(\"\\nВведите степень корня: \"))\n",
    "                print(f\"Результат вычисления корня степени {degree} из {round(num, 2)}: {round(num ** (1/degree), 2)}\")\n",
    "            except ValueError:\n",
    "                print(\"\\nПроверьте введенные данные!\")\n",
    "                degree = float(input(\"\\nВведите степень корня: \")) #после второго ошибочного вхождения все равно ошибка (как исправить?)\n",
    "                print(f\"Результат вычисления корня степени {degree} из {round(num, 2)}: {round(num ** (1/degree), 2)}\")\n",
    "        elif again == 0:\n",
    "            print(\"Вычисления завершены.\")\n",
    "        break\n",
    "root()                   "
   ]
  },
  {
   "cell_type": "markdown",
   "id": "christian-solution",
   "metadata": {},
   "source": [
    "#### 2. Перепишите ваш код для проверки расширения из прошлого ДЗ в функцию которая принимает список расширений и  имя файла"
   ]
  },
  {
   "cell_type": "code",
   "execution_count": 2,
   "id": "445fbd8f",
   "metadata": {},
   "outputs": [
    {
     "name": "stdout",
     "output_type": "stream",
     "text": [
      "Введите имя файла.\n",
      "Ввод: homework.png\n",
      "Введите наименования расширений: png jpg csv\n",
      "Имя расширения: png\n",
      "Расширение допустимое.\n"
     ]
    }
   ],
   "source": [
    "def check(file, extensions):\n",
    "    if file.count('.') >= 1: #Количество символов в строке\n",
    "        rfind = file.rfind(\".\") #Первое вхождение с конца подстроки\n",
    "        print(\"Имя расширения:\", file[rfind + 1:])\n",
    "        if file[rfind + 1:] not in extensions:\n",
    "            print(\"Расширение недопустимое.\")\n",
    "        else:\n",
    "            print(\"Расширение допустимое.\")\n",
    "    else:\n",
    "        print(\"У файла нет расширения.\")\n",
    "    \n",
    "file = input(\"Введите имя файла.\\nВвод: \")\n",
    "extensions = input(\"Введите наименования расширений: \").split()\n",
    "check(file, extensions)"
   ]
  },
  {
   "cell_type": "markdown",
   "id": "furnished-cookie",
   "metadata": {},
   "source": [
    "#### 3. Слейте воедино три словаря"
   ]
  },
  {
   "cell_type": "code",
   "execution_count": 3,
   "id": "micro-robert",
   "metadata": {},
   "outputs": [
    {
     "name": "stdout",
     "output_type": "stream",
     "text": [
      "Словарик: {1: 10, 2: 20, 3: 30, 4: 40, 5: 50, 6: 60}\n"
     ]
    }
   ],
   "source": [
    "dict_a = {1:10, 2:20}\n",
    "dict_b = {3:30, 4:40}\n",
    "dict_c = {5:50, 6:60}\n",
    "\n",
    "dict_merge = {**dict_a, **dict_b, **dict_c}\n",
    "print(\"Словарик:\", dict_merge)"
   ]
  },
  {
   "cell_type": "markdown",
   "id": "instructional-belfast",
   "metadata": {},
   "source": [
    "#### 4. Напишите функцию которая будет складывать цифры внутри числа"
   ]
  },
  {
   "cell_type": "code",
   "execution_count": 4,
   "id": "e80974a4",
   "metadata": {},
   "outputs": [
    {
     "name": "stdout",
     "output_type": "stream",
     "text": [
      "\n",
      "Введите число: 123\n",
      "Число 123 имеет сумму цифр: 6\n"
     ]
    }
   ],
   "source": [
    "def sum_of_digits():\n",
    "    sum_max = 0\n",
    "    try:\n",
    "        number = int(input(\"\\nВведите число: \"))\n",
    "    except:\n",
    "        print(\"\\nПроверьте введенные данные!\\nВведите целое число!\")\n",
    "        return sum_of_digits()\n",
    "    new_number = number\n",
    "    summ = 0\n",
    "    while number > 0:\n",
    "        summ += number % 10\n",
    "        number //= 10\n",
    "        if summ > sum_max:\n",
    "            sum_max = summ\n",
    "            max_num = new_number\n",
    "    print(\"Число\", max_num, \"имеет сумму цифр:\", sum_max)\n",
    "sum_of_digits()"
   ]
  },
  {
   "cell_type": "markdown",
   "id": "strategic-priest",
   "metadata": {},
   "source": [
    "#### 5. Нужно проверить, все ли числа в последовательности уникальны.\n"
   ]
  },
  {
   "cell_type": "code",
   "execution_count": 5,
   "id": "0a40fd83",
   "metadata": {},
   "outputs": [
    {
     "name": "stdout",
     "output_type": "stream",
     "text": [
      "\n",
      "Введите количество чисел в последовательности: 3\n",
      "\n",
      "Введите число № 1: 1\n",
      "\n",
      "Введите число № 2: 2\n",
      "\n",
      "Введите число № 3: 3\n",
      "\n",
      "Cписок:  [1, 2, 3]\n",
      "Все числа в последовательности уникальны.\n"
     ]
    }
   ],
   "source": [
    "def unique():\n",
    "    line = []\n",
    "    try:\n",
    "        quantity_numbers = int(input(\"\\nВведите количество чисел в последовательности: \"))\n",
    "    except:\n",
    "        print(\"\\nПроверьте введенные данные!\\nВведите целое число!\")\n",
    "        return unique()\n",
    "    for num_one in range(quantity_numbers):\n",
    "        print(f'\\nВведите число № {num_one + 1}:', end = \" \")\n",
    "        num_one_in = int(input(\"\"))\n",
    "        line.append(num_one_in)\n",
    "    print(\"\\nCписок: \", line)\n",
    "    for i in line:\n",
    "        if line.count(i) != 1:\n",
    "            print(\"Не все числа в последовательности уникальны.\")\n",
    "    print(\"Все числа в последовательности уникальны.\")\n",
    "unique()"
   ]
  },
  {
   "cell_type": "markdown",
   "id": "fluid-yield",
   "metadata": {},
   "source": [
    "#### 6. Создать функцию, которая просто печатает все элементы заданного ей списка:\n",
    "\n",
    "     НОМЕР J --> ЗНАЧЕНИЕ\n",
    "     НОМЕР K --> ЗНАЧЕНИЕ\n",
    "    J, K — порядковые номера в списке"
   ]
  },
  {
   "cell_type": "code",
   "execution_count": 6,
   "id": "77d11d7e",
   "metadata": {},
   "outputs": [
    {
     "name": "stdout",
     "output_type": "stream",
     "text": [
      "Введите количество чисел в последовательности: 3\n",
      "Введите элемент списка № 1: 1\n",
      "Введите элемент списка № 2: 2\n",
      "Введите элемент списка № 3: a\n",
      "\n",
      "Cписок:  ['1', '2', 'a']\n",
      "\n",
      "Ключ --> значение:\n",
      "\n",
      "НОМЕР 1 --> 1\n",
      "НОМЕР 2 --> 2\n",
      "НОМЕР 3 --> a\n"
     ]
    }
   ],
   "source": [
    "def print_list_input():\n",
    "    my_list = []\n",
    "    try:\n",
    "        quantity_numbers = int(input(\"Введите количество чисел в последовательности: \"))\n",
    "    except:\n",
    "        print(\"\\nПроверьте введенные данные!\\nВведите целое число!\\n\")\n",
    "        return print_list_input()\n",
    "    for num_one in range(quantity_numbers):\n",
    "        print(f'Введите элемент списка № {num_one + 1}:', end = \" \")\n",
    "        num_one_in = input(\"\")\n",
    "        my_list.append(num_one_in)\n",
    "    print(\"\\nCписок: \", my_list)\n",
    "    print(\"\\nКлюч --> значение:\\n\")\n",
    "    for value in my_list:\n",
    "        key = my_list.index(value) + 1\n",
    "        print(f\"НОМЕР {key} --> {value}\")\n",
    "print_list_input()"
   ]
  },
  {
   "cell_type": "code",
   "execution_count": 7,
   "id": "41acf879",
   "metadata": {},
   "outputs": [
    {
     "name": "stdout",
     "output_type": "stream",
     "text": [
      "\n",
      "Cписок:  ['я', 'не', 'в', 'отпуск']\n",
      "\n",
      "Ключ --> значение:\n",
      "\n",
      "НОМЕР 1 --> я\n",
      "НОМЕР 2 --> не\n",
      "НОМЕР 3 --> в\n",
      "НОМЕР 4 --> отпуск\n"
     ]
    }
   ],
   "source": [
    "def print_list(my_list):\n",
    "    print(\"\\nCписок: \", my_list)\n",
    "    print(\"\\nКлюч --> значение:\\n\")\n",
    "    for value in my_list:\n",
    "        key = my_list.index(value) + 1\n",
    "        print(f\"НОМЕР {key} --> {value}\")\n",
    "print_list([\"я\", \"не\", \"в\", \"отпуск\" ])"
   ]
  },
  {
   "cell_type": "markdown",
   "id": "incredible-substitute",
   "metadata": {},
   "source": [
    "#### 6.1 Создать функцию, которая печатает каждый элемент словарика\n",
    "\n",
    "        КЛЮЧ <<J>> --> ЗНАЧЕНИЕ\n",
    "        КЛЮЧ <<K>> --> ЗНАЧЕНИЕ\n",
    "    J, K — ключи словарика"
   ]
  },
  {
   "cell_type": "code",
   "execution_count": 8,
   "id": "442c27ed",
   "metadata": {},
   "outputs": [
    {
     "name": "stdout",
     "output_type": "stream",
     "text": [
      "Введите количество ключей в словарике: 3\n",
      "\n",
      "Введите через пробел ключ --> значение:\n",
      "1 a\n",
      "\n",
      "Введите через пробел ключ --> значение:\n",
      "2 b\n",
      "\n",
      "Введите через пробел ключ --> значение:\n",
      "3 c\n",
      "\n",
      "Словарик:  {'1': 'a', '2': 'b', '3': 'c'}\n",
      "\n",
      "Ключ --> значение:\n",
      "\n",
      "КЛЮЧ <<1>> --> a\n",
      "КЛЮЧ <<2>> --> b\n",
      "КЛЮЧ <<3>> --> c\n"
     ]
    }
   ],
   "source": [
    "def print_dict_input():\n",
    "    my_dict = {}\n",
    "    try:\n",
    "        quantity_numbers = int(input(\"Введите количество ключей в словарике: \"))\n",
    "    except ValueError:\n",
    "        print(\"\\nПроверьте введенные данные!\\nВведите целое число!\\n\")\n",
    "        print_dict_input()\n",
    "    for i in range(quantity_numbers):\n",
    "        try:\n",
    "            items = input(\"\\nВведите через пробел ключ --> значение:\\n\").split()\n",
    "            my_dict[items[0]] = items[1]\n",
    "        except:\n",
    "            print(\"\\nПроверьте введенные данные!\\nВведите через пробел ключ --> значение!\\n\")\n",
    "            items = input(\"\\nВведите через пробел ключ --> значение:\\n\").split()\n",
    "            my_dict[items[0]] = items[1]\n",
    "    print(\"\\nСловарик: \", my_dict)\n",
    "    print(\"\\nКлюч --> значение:\\n\")\n",
    "    keys = list(my_dict.keys())\n",
    "    for i in keys:\n",
    "        value = my_dict[i]\n",
    "        print(f\"КЛЮЧ <<{i}>> --> {value}\")\n",
    "print_dict_input()\n",
    "\n",
    "#я пыталась :)"
   ]
  },
  {
   "cell_type": "code",
   "execution_count": 9,
   "id": "convertible-eagle",
   "metadata": {},
   "outputs": [
    {
     "name": "stdout",
     "output_type": "stream",
     "text": [
      "\n",
      "Словарик:  {'key1': 2, 'key3': False, 'Приветствие': 'Hello'}\n",
      "\n",
      "Ключ --> значение:\n",
      "\n",
      "КЛЮЧ <<key1>> --> 2\n",
      "КЛЮЧ <<key3>> --> False\n",
      "КЛЮЧ <<Приветствие>> --> Hello\n"
     ]
    }
   ],
   "source": [
    "def print_dict(my_dict):\n",
    "    print(\"\\nСловарик: \", my_dict)\n",
    "    print(\"\\nКлюч --> значение:\\n\")\n",
    "    keys = list(my_dict.keys())\n",
    "    for i in keys:\n",
    "        value = my_dict[i]\n",
    "        print(f\"КЛЮЧ <<{i}>> --> {value}\")\n",
    "    \n",
    "print_dict({\"key1\": 2, \"key3\": False, \"Приветствие\": \"Hello\"})"
   ]
  },
  {
   "cell_type": "markdown",
   "id": "radical-shadow",
   "metadata": {},
   "source": [
    "#### 6.3 Сделать функцию, которая использует две уже написанные функции следующим образом:\n",
    "\n",
    "    если ЗНАЧЕНИЕ это LIST --> вызывается print_list\n",
    "    если ЗНАЧЕНИЕ это DICT --> вызывается print_dict\n",
    "    во всех других случаях просто выводится ЗНАЧЕНИЕ"
   ]
  },
  {
   "cell_type": "code",
   "execution_count": 10,
   "id": "tribal-cornwall",
   "metadata": {},
   "outputs": [
    {
     "name": "stdout",
     "output_type": "stream",
     "text": [
      "\n",
      "Словарик:  {'key1': 1, 'key2': [1, 2, 3, 4], 'key3': 'Hello', 'key4': {'ciao': 'Mondo', 'Привет': 'О дивный мир'}}\n",
      "\n",
      "Ключ --> значение:\n",
      "\n",
      "КЛЮЧ <<key1>> --> 1\n",
      "КЛЮЧ <<key2>> --> [1, 2, 3, 4]\n",
      "КЛЮЧ <<key3>> --> Hello\n",
      "КЛЮЧ <<key4>> --> {'ciao': 'Mondo', 'Привет': 'О дивный мир'}\n",
      "\n",
      "Cписок:  [1, 2, 3, 'abc']\n",
      "\n",
      "Ключ --> значение:\n",
      "\n",
      "НОМЕР 1 --> 1\n",
      "НОМЕР 2 --> 2\n",
      "НОМЕР 3 --> 3\n",
      "НОМЕР 4 --> abc\n"
     ]
    }
   ],
   "source": [
    "def print_overlord(mydict):\n",
    "    if isinstance(mydict, list):\n",
    "        print_list(mydict)\n",
    "    elif isinstance(mydict, dict):\n",
    "        print_dict(mydict)\n",
    "        \n",
    "print_overlord(dict(key1=1,\n",
    "            key2=[1, 2, 3, 4], \n",
    "            key3='Hello', \n",
    "            key4={\"ciao\":\"Mondo\", \"Привет\": \"О дивный мир\"}))\n",
    "print_overlord([1, 2, 3, \"abc\"])"
   ]
  },
  {
   "cell_type": "markdown",
   "id": "friendly-cycling",
   "metadata": {},
   "source": [
    "#### 7. Придумать две темы из IT про которые вам было бы интересно послушать"
   ]
  },
  {
   "cell_type": "markdown",
   "id": "62b117c7",
   "metadata": {},
   "source": [
    "roc_auc, recall, accuracy, precision (и др. :)) - метрики (когда какие лучше использовать?) <br/>на основе каких алгоритмов в основном строятся скоринговые модели? <br/>как анализировать риски?"
   ]
  },
  {
   "cell_type": "markdown",
   "id": "subject-spending",
   "metadata": {},
   "source": [
    "### Задачи со звездочкой"
   ]
  },
  {
   "cell_type": "markdown",
   "id": "julian-hacker",
   "metadata": {},
   "source": [
    "#### 1. Сделать функцию, которая на вход получает фразу и печатает все отдельные слова из этой фразы. Операция разбиения строки на составляющие называется токенизацией, это слово нам ещё пригодится в будущем.\n",
    "\n"
   ]
  },
  {
   "cell_type": "code",
   "execution_count": 11,
   "id": "9cfcda1d",
   "metadata": {},
   "outputs": [
    {
     "name": "stdout",
     "output_type": "stream",
     "text": [
      "Введите фразу: Тут фраза с пробелами и я хочу их распечатать по одному на строку и ещё посчитать слова\n",
      "\n",
      "Тут\n",
      "фраза\n",
      "с\n",
      "пробелами\n",
      "и\n",
      "я\n",
      "хочу\n",
      "их\n",
      "распечатать\n",
      "по\n",
      "одному\n",
      "на\n",
      "строку\n",
      "и\n",
      "ещё\n",
      "посчитать\n",
      "слова\n",
      "\n",
      "Количество слов:  17\n"
     ]
    }
   ],
   "source": [
    "def word_count(phrase):\n",
    "    for word in phrase.split():\n",
    "        print(word)\n",
    "    print(\"\\nКоличество слов: \", len(phrase.split()))\n",
    "phrase = input(\"Введите фразу: \")   \n",
    "print(\"\")\n",
    "word_count(phrase)"
   ]
  },
  {
   "cell_type": "markdown",
   "id": "typical-chess",
   "metadata": {},
   "source": [
    "#### 2. Модифицировать функцию из предыдущего задания так, чтобы она считала \"вес\" каждого слова, выводя в процентное соотношение во фразе для каждого слова. Проценты печатать с точностью до 2 знаков после запятой."
   ]
  },
  {
   "cell_type": "code",
   "execution_count": 12,
   "id": "ddc4a862",
   "metadata": {},
   "outputs": [
    {
     "name": "stdout",
     "output_type": "stream",
     "text": [
      "Введите фразу: Модифицировать функцию из предыдущего задания\n"
     ]
    },
    {
     "data": {
      "text/plain": [
       "{'Модифицировать': 20.0,\n",
       " 'функцию': 20.0,\n",
       " 'из': 20.0,\n",
       " 'предыдущего': 20.0,\n",
       " 'задания': 20.0}"
      ]
     },
     "execution_count": 12,
     "metadata": {},
     "output_type": "execute_result"
    }
   ],
   "source": [
    "def word_count(phrase):\n",
    "    lst = phrase.split()\n",
    "    result = {}\n",
    "    for phrase in lst:\n",
    "        if phrase not in result:\n",
    "            result[phrase] = 0\n",
    "        result[phrase] += 1\n",
    "        result[phrase]\n",
    "    result = {key: round((value / weight * 100), 2) for weight in (sum(result.values()),) for key, value in result.items()}\n",
    "    return result\n",
    "phrase = input(\"Введите фразу: \")\n",
    "word_count(phrase)"
   ]
  }
 ],
 "metadata": {
  "celltoolbar": "Необработанный формат ячейки",
  "kernelspec": {
   "display_name": "Python 3 (ipykernel)",
   "language": "python",
   "name": "python3"
  },
  "language_info": {
   "codemirror_mode": {
    "name": "ipython",
    "version": 3
   },
   "file_extension": ".py",
   "mimetype": "text/x-python",
   "name": "python",
   "nbconvert_exporter": "python",
   "pygments_lexer": "ipython3",
   "version": "3.9.12"
  }
 },
 "nbformat": 4,
 "nbformat_minor": 5
}
