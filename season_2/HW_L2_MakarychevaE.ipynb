{
 "cells": [
  {
   "cell_type": "code",
   "execution_count": 1,
   "id": "1dfc0680",
   "metadata": {},
   "outputs": [],
   "source": [
    "import pandas as pd\n",
    "import seaborn as sns\n",
    "from sklearn import linear_model, model_selection\n",
    "from sklearn.metrics import confusion_matrix"
   ]
  },
  {
   "cell_type": "code",
   "execution_count": 2,
   "id": "32aad463",
   "metadata": {},
   "outputs": [],
   "source": [
    "path = 'athletes_sochi.txt'"
   ]
  },
  {
   "cell_type": "code",
   "execution_count": 3,
   "id": "892c71e2",
   "metadata": {},
   "outputs": [
    {
     "data": {
      "text/html": [
       "<div>\n",
       "<style scoped>\n",
       "    .dataframe tbody tr th:only-of-type {\n",
       "        vertical-align: middle;\n",
       "    }\n",
       "\n",
       "    .dataframe tbody tr th {\n",
       "        vertical-align: top;\n",
       "    }\n",
       "\n",
       "    .dataframe thead th {\n",
       "        text-align: right;\n",
       "    }\n",
       "</style>\n",
       "<table border=\"1\" class=\"dataframe\">\n",
       "  <thead>\n",
       "    <tr style=\"text-align: right;\">\n",
       "      <th></th>\n",
       "      <th>age</th>\n",
       "      <th>birthdate</th>\n",
       "      <th>gender</th>\n",
       "      <th>height</th>\n",
       "      <th>name</th>\n",
       "      <th>weight</th>\n",
       "      <th>gold_medals</th>\n",
       "      <th>silver_medals</th>\n",
       "      <th>bronze_medals</th>\n",
       "      <th>total_medals</th>\n",
       "      <th>sport</th>\n",
       "      <th>country</th>\n",
       "    </tr>\n",
       "  </thead>\n",
       "  <tbody>\n",
       "    <tr>\n",
       "      <th>0</th>\n",
       "      <td>17</td>\n",
       "      <td>1996-04-12</td>\n",
       "      <td>Male</td>\n",
       "      <td>1.72</td>\n",
       "      <td>Aaron Blunck</td>\n",
       "      <td>68.0</td>\n",
       "      <td>0</td>\n",
       "      <td>0</td>\n",
       "      <td>0</td>\n",
       "      <td>0</td>\n",
       "      <td>Freestyle Skiing</td>\n",
       "      <td>United States</td>\n",
       "    </tr>\n",
       "    <tr>\n",
       "      <th>1</th>\n",
       "      <td>27</td>\n",
       "      <td>1986-05-14</td>\n",
       "      <td>Male</td>\n",
       "      <td>1.85</td>\n",
       "      <td>Aaron March</td>\n",
       "      <td>85.0</td>\n",
       "      <td>0</td>\n",
       "      <td>0</td>\n",
       "      <td>0</td>\n",
       "      <td>0</td>\n",
       "      <td>Snowboard</td>\n",
       "      <td>Italy</td>\n",
       "    </tr>\n",
       "    <tr>\n",
       "      <th>2</th>\n",
       "      <td>21</td>\n",
       "      <td>1992-06-30</td>\n",
       "      <td>Male</td>\n",
       "      <td>1.78</td>\n",
       "      <td>Abzal Azhgaliyev</td>\n",
       "      <td>68.0</td>\n",
       "      <td>0</td>\n",
       "      <td>0</td>\n",
       "      <td>0</td>\n",
       "      <td>0</td>\n",
       "      <td>Short Track</td>\n",
       "      <td>Kazakhstan</td>\n",
       "    </tr>\n",
       "    <tr>\n",
       "      <th>3</th>\n",
       "      <td>21</td>\n",
       "      <td>1992-05-25</td>\n",
       "      <td>Male</td>\n",
       "      <td>1.68</td>\n",
       "      <td>Abzal Rakimgaliev</td>\n",
       "      <td>NaN</td>\n",
       "      <td>0</td>\n",
       "      <td>0</td>\n",
       "      <td>0</td>\n",
       "      <td>0</td>\n",
       "      <td>Figure Skating</td>\n",
       "      <td>Kazakhstan</td>\n",
       "    </tr>\n",
       "    <tr>\n",
       "      <th>4</th>\n",
       "      <td>21</td>\n",
       "      <td>1992-07-30</td>\n",
       "      <td>Male</td>\n",
       "      <td>1.86</td>\n",
       "      <td>Adam Barwood</td>\n",
       "      <td>82.0</td>\n",
       "      <td>0</td>\n",
       "      <td>0</td>\n",
       "      <td>0</td>\n",
       "      <td>0</td>\n",
       "      <td>Alpine Skiing</td>\n",
       "      <td>New Zealand</td>\n",
       "    </tr>\n",
       "  </tbody>\n",
       "</table>\n",
       "</div>"
      ],
      "text/plain": [
       "   age   birthdate gender  height               name  weight  gold_medals  \\\n",
       "0   17  1996-04-12   Male    1.72       Aaron Blunck    68.0            0   \n",
       "1   27  1986-05-14   Male    1.85        Aaron March    85.0            0   \n",
       "2   21  1992-06-30   Male    1.78   Abzal Azhgaliyev    68.0            0   \n",
       "3   21  1992-05-25   Male    1.68  Abzal Rakimgaliev     NaN            0   \n",
       "4   21  1992-07-30   Male    1.86       Adam Barwood    82.0            0   \n",
       "\n",
       "   silver_medals  bronze_medals  total_medals             sport        country  \n",
       "0              0              0             0  Freestyle Skiing  United States  \n",
       "1              0              0             0         Snowboard          Italy  \n",
       "2              0              0             0       Short Track     Kazakhstan  \n",
       "3              0              0             0    Figure Skating     Kazakhstan  \n",
       "4              0              0             0     Alpine Skiing    New Zealand  "
      ]
     },
     "execution_count": 3,
     "metadata": {},
     "output_type": "execute_result"
    }
   ],
   "source": [
    "df = pd.read_csv(path)\n",
    "df.head()"
   ]
  },
  {
   "cell_type": "code",
   "execution_count": 4,
   "id": "189ef714",
   "metadata": {},
   "outputs": [
    {
     "data": {
      "text/plain": [
       "<seaborn.axisgrid.FacetGrid at 0x20352399d30>"
      ]
     },
     "execution_count": 4,
     "metadata": {},
     "output_type": "execute_result"
    },
    {
     "data": {
      "image/png": "[encoded data removed]",
      "text/plain": [
       "<Figure size 500x500 with 1 Axes>"
      ]
     },
     "metadata": {},
     "output_type": "display_data"
    }
   ],
   "source": [
    "sns.displot(df, x='gender')"
   ]
  },
  {
   "cell_type": "code",
   "execution_count": 5,
   "id": "55a9b7fe",
   "metadata": {},
   "outputs": [],
   "source": [
    "df = df.dropna()\n",
    "df = df.sample(frac=1)"
   ]
  },
  {
   "cell_type": "code",
   "execution_count": 6,
   "id": "f8687154",
   "metadata": {},
   "outputs": [],
   "source": [
    "df[\"BMI\"] = round(df[\"weight\"] / (df[\"height\"]**2), 2)\n",
    "input_data = df[['weight', 'height', 'BMI']]\n",
    "output_data = df['gender']\n",
    "output_data = output_data.apply(lambda x: int(x == 'Male'))  #заменяем Male на 1, fEMALE на 0"
   ]
  },
  {
   "cell_type": "code",
   "execution_count": 7,
   "id": "cf3a9bc9",
   "metadata": {},
   "outputs": [],
   "source": [
    "def predict_sex(input_data, output_data):\n",
    "    X_train, X_test, Y_train, Y_test = model_selection.train_test_split(input_data, output_data, test_size=0.2)\n",
    "    \n",
    "    model = linear_model.LogisticRegression()\n",
    "    model.fit(X_train, Y_train)\n",
    "    \n",
    "    predict = model.predict(X_test)\n",
    "    [tn, fp], [fn, tp] = confusion_matrix(Y_test, predict)\n",
    "    \n",
    "    print(f'Accuracy: {(tn + tp) / (tp + fp + tn + fn)}')\n",
    "    return model"
   ]
  },
  {
   "cell_type": "code",
   "execution_count": 8,
   "id": "01055057",
   "metadata": {},
   "outputs": [
    {
     "name": "stdout",
     "output_type": "stream",
     "text": [
      "Accuracy: 0.8709677419354839\n"
     ]
    }
   ],
   "source": [
    "model_1 = predict_sex(input_data, output_data)"
   ]
  },
  {
   "cell_type": "code",
   "execution_count": 9,
   "id": "577f1652",
   "metadata": {},
   "outputs": [],
   "source": [
    "#попробуем добавить столбец age в фичи\n",
    "input_data_2 = df[['age', 'weight', 'height', 'BMI']]"
   ]
  },
  {
   "cell_type": "code",
   "execution_count": 10,
   "id": "91a6c71d",
   "metadata": {},
   "outputs": [
    {
     "name": "stdout",
     "output_type": "stream",
     "text": [
      "Accuracy: 0.8770161290322581\n"
     ]
    }
   ],
   "source": [
    "model_2 = predict_sex(input_data_2, output_data)"
   ]
  },
  {
   "cell_type": "code",
   "execution_count": 11,
   "id": "e899f9aa",
   "metadata": {},
   "outputs": [
    {
     "data": {
      "text/plain": [
       "<seaborn.axisgrid.FacetGrid at 0x20357778190>"
      ]
     },
     "execution_count": 11,
     "metadata": {},
     "output_type": "execute_result"
    }
   ],
   "source": [
    "sns.relplot(x='height', y='weight', hue='gender', data=df)"
   ]
  },
  {
   "cell_type": "code",
   "execution_count": 12,
   "id": "31247570",
   "metadata": {},
   "outputs": [
    {
     "data": {
      "text/plain": [
       "<seaborn.axisgrid.PairGrid at 0x2035857b310>"
      ]
     },
     "execution_count": 12,
     "metadata": {},
     "output_type": "execute_result"
    }
   ],
   "source": [
    "df_cut = df[['age', 'weight', 'height', 'BMI', 'gender']]\n",
    "sns.pairplot(df_cut, hue='gender')"
   ]
  }
 ],
 "metadata": {
  "kernelspec": {
   "display_name": "Python 3 (ipykernel)",
   "language": "python",
   "name": "python3"
  },
  "language_info": {
   "codemirror_mode": {
    "name": "ipython",
    "version": 3
   },
   "file_extension": ".py",
   "mimetype": "text/x-python",
   "name": "python",
   "nbconvert_exporter": "python",
   "pygments_lexer": "ipython3",
   "version": "3.9.13"
  }
 },
 "nbformat": 4,
 "nbformat_minor": 5
}
