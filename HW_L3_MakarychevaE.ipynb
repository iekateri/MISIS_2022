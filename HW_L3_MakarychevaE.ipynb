{
 "cells": [
  {
   "cell_type": "markdown",
   "id": "small-offense",
   "metadata": {},
   "source": [
    "## ДЗ Макарычевой Екатерины"
   ]
  },
  {
   "cell_type": "markdown",
   "id": "statewide-starter",
   "metadata": {},
   "source": [
    "### Задача 1 Какой месяц\n"
   ]
  },
  {
   "cell_type": "code",
   "execution_count": 1,
   "id": "526dadb1",
   "metadata": {},
   "outputs": [
    {
     "name": "stdout",
     "output_type": "stream",
     "text": [
      "Введите номер месяца: 10\n",
      "Название месяца: Октябрь\n"
     ]
    }
   ],
   "source": [
    "def monthname(month):\n",
    "    if month.isdigit() == True:\n",
    "        months = {\n",
    "        \"1\":\"Январь\",\n",
    "        \"2\":\"Февраль\",\n",
    "        \"3\":\"Март\",\n",
    "        \"4\":\"Апрель\",\n",
    "        \"5\":\"Май\",\n",
    "        \"6\":\"Июнь\",\n",
    "        \"7\":\"Июль\",\n",
    "        \"8\":\"Август\",\n",
    "        \"9\":\"Сентябрь\",\n",
    "        \"10\":\"Октябрь\",\n",
    "        \"11\":\"Ноябрь\",\n",
    "        \"12\":\"Декабрь\"}\n",
    "        if int(month)>=1 and int(month)<=12:\n",
    "            return print(\"Название месяца:\", months[month])\n",
    "        else:\n",
    "            print(\"Месяца с таким номером не существует.\")\n",
    "    else: \n",
    "        print(\"Введите целое число!\")\n",
    "\n",
    "month = input(\"Введите номер месяца: \")\n",
    "monthname(month)"
   ]
  },
  {
   "cell_type": "markdown",
   "id": "touched-acceptance",
   "metadata": {},
   "source": [
    "### Задача 2 Наибольший общий делитель"
   ]
  },
  {
   "cell_type": "code",
   "execution_count": 2,
   "id": "ranking-singing",
   "metadata": {},
   "outputs": [
    {
     "name": "stdout",
     "output_type": "stream",
     "text": [
      "НОД двух чисел: 4\n"
     ]
    }
   ],
   "source": [
    "import math\n",
    "a = 600\n",
    "b = 1012\n",
    "print('НОД двух чисел:', math.gcd(a, b))"
   ]
  },
  {
   "cell_type": "code",
   "execution_count": 3,
   "id": "c7ed2388",
   "metadata": {},
   "outputs": [
    {
     "name": "stdout",
     "output_type": "stream",
     "text": [
      "\n",
      "Введите первое число: 600\n",
      "Введите второе число: 1012\n",
      "\n",
      "НОД двух чисел: 4\n",
      "\n",
      "Хотите вычислить НОД еще раз?\n",
      "Если да - введите 1, если нет - введите 0.\n",
      "Ввод: 1\n",
      "\n",
      "Введите первое число: 12\n",
      "Введите второе число: 2\n",
      "\n",
      "НОД двух чисел: 2\n",
      "\n",
      "Хотите вычислить НОД еще раз?\n",
      "Если да - введите 1, если нет - введите 0.\n",
      "Ввод: 0\n"
     ]
    }
   ],
   "source": [
    "def again(still):\n",
    "    if still.isdigit() == True:\n",
    "        still = int(still)\n",
    "        if still == 1:\n",
    "            return gcd(a, b)\n",
    "        elif still == 0:\n",
    "            pass\n",
    "        else:\n",
    "            still = input(\"Ошибка! Для завершения вычисления введите 0, для продолжения - 1.\\nВвод: \")\n",
    "            return again(still)\n",
    "    else:\n",
    "        still = input(\"Ошибка! Для завершения вычисления введите 0, для продолжения - 1.\\nВвод: \")\n",
    "        return again(still)\n",
    "    \n",
    "    \n",
    "        \n",
    "def gcd(a, b):\n",
    "    a = input(\"\\nВведите первое число: \")\n",
    "    b = input(\"Введите второе число: \")\n",
    "    if a.isdigit() == True and b.isdigit() == True:\n",
    "        a = int(a)\n",
    "        b = int(b)\n",
    "        while a!=0 and b!=0:\n",
    "            if a > b:\n",
    "                a = a % b\n",
    "            else:\n",
    "                b = b % a\n",
    "        print(\"\\nНОД двух чисел:\", a + b)\n",
    "        still = input(\"\\nХотите вычислить НОД еще раз?\\nЕсли да - введите 1, если нет - введите 0.\\nВвод: \")        \n",
    "        return again(still)\n",
    "    else:\n",
    "        print(\"\\nВведите целое число!\")\n",
    "        return gcd(a, b)\n",
    "gcd(a, b)    "
   ]
  },
  {
   "cell_type": "markdown",
   "id": "objective-overhead",
   "metadata": {},
   "source": [
    "### Задача 3 Проверка расширения файла\n"
   ]
  },
  {
   "cell_type": "code",
   "execution_count": 4,
   "id": "6d12fe67",
   "metadata": {},
   "outputs": [
    {
     "name": "stdout",
     "output_type": "stream",
     "text": [
      "Введите имя файла.\n",
      "Ввод: homework.png\n",
      "Имя расширения: png\n",
      "Расширение допустимое.\n"
     ]
    }
   ],
   "source": [
    "file = input(\"Введите имя файла.\\nВвод: \")\n",
    "extensions = ['png', 'jpg', 'jpeg', 'gif', 'svg']\n",
    "if file.count('.') >= 1: #Количество символов в строке\n",
    "    rfind = file.rfind(\".\") #Первое вхождение с конца подстроки\n",
    "    print(\"Имя расширения:\", file[rfind + 1:])\n",
    "    if file[rfind + 1:] not in extensions:\n",
    "        print(\"Расширение недопустимое.\")\n",
    "    else:\n",
    "        print(\"Расширение допустимое.\")\n",
    "else:\n",
    "    print(\"У файла нет расширения.\")"
   ]
  },
  {
   "cell_type": "markdown",
   "id": "ahead-bronze",
   "metadata": {},
   "source": [
    "### Задача 4 Вискосный Год"
   ]
  },
  {
   "cell_type": "code",
   "execution_count": 6,
   "id": "654722e8",
   "metadata": {},
   "outputs": [
    {
     "name": "stdout",
     "output_type": "stream",
     "text": [
      "Введите год: 2022\n",
      "2022 невисокосный год.\n"
     ]
    }
   ],
   "source": [
    "def leap_year(year):\n",
    "    if year.isdigit() == True:\n",
    "        year = int(year)\n",
    "        if year % 4 == 0 and year % 100 != 0 or year % 400 == 0:\n",
    "            print(f\"{year} високосный год.\")\n",
    "        else:\n",
    "            print(f\"{year} невисокосный год.\")\n",
    "    else:\n",
    "        print(\"\\nВведите целое число!\")\n",
    "        return leap_year(year)\n",
    "    \n",
    "year = input(\"Введите год: \")\n",
    "leap_year(year)"
   ]
  }
 ],
 "metadata": {
  "kernelspec": {
   "display_name": "Python 3 (ipykernel)",
   "language": "python",
   "name": "python3"
  },
  "language_info": {
   "codemirror_mode": {
    "name": "ipython",
    "version": 3
   },
   "file_extension": ".py",
   "mimetype": "text/x-python",
   "name": "python",
   "nbconvert_exporter": "python",
   "pygments_lexer": "ipython3",
   "version": "3.9.12"
  }
 },
 "nbformat": 4,
 "nbformat_minor": 5
}
