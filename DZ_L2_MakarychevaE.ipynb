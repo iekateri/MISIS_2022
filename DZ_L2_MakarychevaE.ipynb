{
 "cells": [
  {
   "cell_type": "markdown",
   "id": "introductory-investigator",
   "metadata": {},
   "source": [
    "# Урок 2"
   ]
  },
  {
   "cell_type": "markdown",
   "id": "bacterial-appearance",
   "metadata": {},
   "source": [
    "## ДЗ\n",
    "### Выполнила: Макарычева Екатерина"
   ]
  },
  {
   "cell_type": "markdown",
   "id": "fatty-belfast",
   "metadata": {},
   "source": [
    "##### 1) Сделайте так, чтобы число секунд отображалось в виде дни:часы:минуты:секунды."
   ]
  },
  {
   "cell_type": "code",
   "execution_count": 1,
   "id": "welsh-participation",
   "metadata": {},
   "outputs": [],
   "source": [
    "seconds = 10000"
   ]
  },
  {
   "cell_type": "code",
   "execution_count": 2,
   "id": "c562f733",
   "metadata": {},
   "outputs": [],
   "source": [
    "day = 24 * 3600 #секунд\n",
    "hour = 3600 #секунд\n",
    "minute = 60 #секунд\n",
    "second = 1 #секунд"
   ]
  },
  {
   "cell_type": "code",
   "execution_count": 3,
   "id": "545b8542",
   "metadata": {},
   "outputs": [
    {
     "name": "stdout",
     "output_type": "stream",
     "text": [
      "0:2:46:40\n"
     ]
    }
   ],
   "source": [
    "days = seconds // day\n",
    "hours = (seconds % day) // hour\n",
    "minutes = ((seconds % day) % hour) // minute\n",
    "sec = ((seconds % day) % hour) % minute\n",
    "print(days, hours, minutes, sec, sep=':')"
   ]
  },
  {
   "cell_type": "markdown",
   "id": "disciplinary-semiconductor",
   "metadata": {},
   "source": [
    "##### 2) Напишите калькулятор который запрашивает на входе две переменные и знак, и в соответствии с знаком ( + - * / ) выводит результат"
   ]
  },
  {
   "cell_type": "code",
   "execution_count": 4,
   "id": "c5daa721",
   "metadata": {},
   "outputs": [],
   "source": [
    "def calc():\n",
    "    print(\"Калькулятор.\\n\")\n",
    "    num_1 = float(input(\"Введите первое число: \"))\n",
    "    num_2 = float(input(\"Введите второе число: \"))\n",
    "    sign = input(\"Введите знак для расчетов: \")\n",
    "    if sign == '+':\n",
    "        print (f\"Результат: {num_1 + num_2}\")\n",
    "    elif sign == '-':\n",
    "        print (f\"Результат: {num_1 - num_2}\")\n",
    "    elif sign == '*':\n",
    "        print(f\"Результат: {num_1 * num_2}\")\n",
    "    elif sign == '/':\n",
    "        if num_2 == 0:\n",
    "            print(\"Деление на 0 невозможно.\\nПроверьте введенные данные!\\n\")\n",
    "            return calc()\n",
    "        else:\n",
    "            print(f\"Результат: {num_1 / num_2}\")\n",
    "    else:\n",
    "        print(\"Проверьте введенные данные!\\n\")\n",
    "        return calc()"
   ]
  },
  {
   "cell_type": "markdown",
   "id": "9d7a346b",
   "metadata": {},
   "source": [
    "### Тест функции"
   ]
  },
  {
   "cell_type": "code",
   "execution_count": 6,
   "id": "c2081c61",
   "metadata": {},
   "outputs": [
    {
     "name": "stdout",
     "output_type": "stream",
     "text": [
      "Калькулятор.\n",
      "\n",
      "Введите первое число: 1\n",
      "Введите второе число: 2\n",
      "Введите знак для расчетов: +\n",
      "Результат: 3.0\n"
     ]
    }
   ],
   "source": [
    "calc() #сложение"
   ]
  },
  {
   "cell_type": "code",
   "execution_count": 7,
   "id": "db7b8aff",
   "metadata": {},
   "outputs": [
    {
     "name": "stdout",
     "output_type": "stream",
     "text": [
      "Калькулятор.\n",
      "\n",
      "Введите первое число: 1\n",
      "Введите второе число: 2\n",
      "Введите знак для расчетов: -\n",
      "Результат: -1.0\n"
     ]
    }
   ],
   "source": [
    "calc() #вычитание"
   ]
  },
  {
   "cell_type": "code",
   "execution_count": 8,
   "id": "77e46f07",
   "metadata": {},
   "outputs": [
    {
     "name": "stdout",
     "output_type": "stream",
     "text": [
      "Калькулятор.\n",
      "\n",
      "Введите первое число: 1\n",
      "Введите второе число: 2\n",
      "Введите знак для расчетов: *\n",
      "Результат: 2.0\n"
     ]
    }
   ],
   "source": [
    "calc() #умножение"
   ]
  },
  {
   "cell_type": "code",
   "execution_count": 9,
   "id": "17010aeb",
   "metadata": {},
   "outputs": [
    {
     "name": "stdout",
     "output_type": "stream",
     "text": [
      "Калькулятор.\n",
      "\n",
      "Введите первое число: 1\n",
      "Введите второе число: 2\n",
      "Введите знак для расчетов: /\n",
      "Результат: 0.5\n"
     ]
    }
   ],
   "source": [
    "calc() #деление"
   ]
  },
  {
   "cell_type": "code",
   "execution_count": 14,
   "id": "9a5c74a2",
   "metadata": {},
   "outputs": [
    {
     "name": "stdout",
     "output_type": "stream",
     "text": [
      "Калькулятор.\n",
      "\n",
      "Введите первое число: 1\n",
      "Введите второе число: 0\n",
      "Введите знак для расчетов: /\n",
      "Деление на 0 невозможно.\n",
      "Проверьте введенные данные!\n",
      "\n",
      "Калькулятор.\n",
      "\n",
      "Введите первое число: 1\n",
      "Введите второе число: -1.5\n",
      "Введите знак для расчетов: +\n",
      "Результат: -0.5\n"
     ]
    }
   ],
   "source": [
    "calc() #деление на 0, проверка типа числа с плавающей точкой, проверка с вводом отрицательного числа"
   ]
  },
  {
   "cell_type": "markdown",
   "id": "a7b099a6",
   "metadata": {},
   "source": [
    "##### 3)Считайте 2 строки и выведите их на печать, разделив символом $."
   ]
  },
  {
   "cell_type": "markdown",
   "id": "c6c5ab0e",
   "metadata": {},
   "source": [
    "Попробуйте решить эту задачу как минимум 2 способами:\n",
    "\n",
    "1) с помощью конкатенации строк\n",
    "2) с помощью указания разделителя в параметре sep метода print"
   ]
  },
  {
   "cell_type": "code",
   "execution_count": 15,
   "id": "95767fe5",
   "metadata": {},
   "outputs": [
    {
     "name": "stdout",
     "output_type": "stream",
     "text": [
      "Введите первое слово: Екатерина\n",
      "Введите второе слово: Макарычева\n",
      "Результат:\n",
      "Екатерина$Макарычева\n"
     ]
    }
   ],
   "source": [
    "line_1 = str(input(\"Введите первое слово: \"))\n",
    "line_2 = str(input(\"Введите второе слово: \"))\n",
    "print(f\"Результат:\\n{line_1+'$'+line_2}\")"
   ]
  },
  {
   "cell_type": "code",
   "execution_count": 16,
   "id": "dcc7f8ce",
   "metadata": {},
   "outputs": [
    {
     "name": "stdout",
     "output_type": "stream",
     "text": [
      "Введите первое слово: Макарычева\n",
      "Введите второе слово: Екатерина\n",
      "Результат: \n",
      "Макарычева$Екатерина\n"
     ]
    }
   ],
   "source": [
    "line_3 = str(input(\"Введите первое слово: \"))\n",
    "line_4 = str(input(\"Введите второе слово: \"))\n",
    "print(\"Результат: \")\n",
    "print(line_3, line_4, sep=\"$\")"
   ]
  },
  {
   "cell_type": "markdown",
   "id": "e0090b8e",
   "metadata": {},
   "source": [
    "##### 4) Напишите поздравление с Днем рождения, где программа считает имя и возраст и выведет поздравление столько раз, сколько лет именнинику"
   ]
  },
  {
   "cell_type": "code",
   "execution_count": 17,
   "id": "0429ac86",
   "metadata": {},
   "outputs": [
    {
     "name": "stdout",
     "output_type": "stream",
     "text": [
      "Введите Ваше имя: Екатерина\n",
      "Введите Ваш возраст: 22\n",
      "Поздравляю с днем рождения!\n",
      "Поздравляю с днем рождения!\n",
      "Поздравляю с днем рождения!\n",
      "Поздравляю с днем рождения!\n",
      "Поздравляю с днем рождения!\n",
      "Поздравляю с днем рождения!\n",
      "Поздравляю с днем рождения!\n",
      "Поздравляю с днем рождения!\n",
      "Поздравляю с днем рождения!\n",
      "Поздравляю с днем рождения!\n",
      "Поздравляю с днем рождения!\n",
      "Поздравляю с днем рождения!\n",
      "Поздравляю с днем рождения!\n",
      "Поздравляю с днем рождения!\n",
      "Поздравляю с днем рождения!\n",
      "Поздравляю с днем рождения!\n",
      "Поздравляю с днем рождения!\n",
      "Поздравляю с днем рождения!\n",
      "Поздравляю с днем рождения!\n",
      "Поздравляю с днем рождения!\n",
      "Поздравляю с днем рождения!\n",
      "Поздравляю с днем рождения!\n",
      "Количество поздравлений: 22\n"
     ]
    }
   ],
   "source": [
    "name = str(input(\"Введите Ваше имя: \"))\n",
    "age = int(input(\"Введите Ваш возраст: \"))\n",
    "for _ in range(age):\n",
    "    print(\"Поздравляю с днем рождения!\")\n",
    "print(f\"Количество поздравлений: {_+1}\") #ряд начинается с 0, поэтому +1"
   ]
  }
 ],
 "metadata": {
  "celltoolbar": "Отсутствует",
  "kernelspec": {
   "display_name": "Python 3 (ipykernel)",
   "language": "python",
   "name": "python3"
  },
  "language_info": {
   "codemirror_mode": {
    "name": "ipython",
    "version": 3
   },
   "file_extension": ".py",
   "mimetype": "text/x-python",
   "name": "python",
   "nbconvert_exporter": "python",
   "pygments_lexer": "ipython3",
   "version": "3.9.12"
  }
 },
 "nbformat": 4,
 "nbformat_minor": 5
}
