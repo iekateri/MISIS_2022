{
 "cells": [
  {
   "cell_type": "markdown",
   "id": "introductory-investigator",
   "metadata": {},
   "source": [
    "# Урок 2"
   ]
  },
  {
   "cell_type": "markdown",
   "id": "bacterial-appearance",
   "metadata": {},
   "source": [
    "## ДЗ\n",
    "### Выполнила: Макарычева Екатерина"
   ]
  },
  {
   "cell_type": "markdown",
   "id": "fatty-belfast",
   "metadata": {},
   "source": [
    "##### 1) Сделайте так, чтобы число секунд отображалось в виде дни:часы:минуты:секунды."
   ]
  },
  {
   "cell_type": "code",
   "execution_count": 1,
   "id": "welsh-participation",
   "metadata": {},
   "outputs": [],
   "source": [
    "seconds = 10000"
   ]
  },
  {
   "cell_type": "code",
   "execution_count": 2,
   "id": "55f5f41f",
   "metadata": {},
   "outputs": [],
   "source": [
    "day = 24 * 3600 #секунд\n",
    "hour = 3600 #секунд\n",
    "minute = 60 #секунд\n",
    "second = 1 #секунд"
   ]
  },
  {
   "cell_type": "code",
   "execution_count": 3,
   "id": "961e6652",
   "metadata": {},
   "outputs": [
    {
     "name": "stdout",
     "output_type": "stream",
     "text": [
      "0:2:46:40\n"
     ]
    }
   ],
   "source": [
    "days = seconds // day\n",
    "hours = (seconds % day) // hour\n",
    "minutes = ((seconds % day) % hour) // minute\n",
    "sec = ((seconds % day) % hour) % minute\n",
    "print(days, hours, minutes, sec, sep=':')"
   ]
  },
  {
   "cell_type": "markdown",
   "id": "disciplinary-semiconductor",
   "metadata": {},
   "source": [
    "##### 2) Напишите калькулятор который запрашивает на входе две переменные и знак, и в соответствии с знаком ( + - * / ) выводит результат"
   ]
  },
  {
   "cell_type": "code",
   "execution_count": 4,
   "id": "7fd2ab2a",
   "metadata": {},
   "outputs": [],
   "source": [
    "def calc():\n",
    "    print(\"Калькулятор.\\n\")\n",
    "    num_1 = float(input(\"Введите первое число: \"))\n",
    "    num_2 = float(input(\"Введите второе число: \"))\n",
    "    sign = input(\"Введите знак для расчетов: \")\n",
    "    if sign == '+':\n",
    "        print (f\"Результат: {num_1 + num_2}\")\n",
    "    elif sign == '-':\n",
    "        print (f\"Результат: {num_1 - num_2}\")\n",
    "    elif sign == '*':\n",
    "        print(f\"Результат: {num_1 * num_2}\")\n",
    "    elif sign == '/':\n",
    "        if num_2 == 0:\n",
    "            print(\"Деление на 0 невозможно.\\nПроверьте введенные данные!\\n\")\n",
    "            return calc()\n",
    "        else:\n",
    "            print(f\"Результат: {num_1 / num_2}\")\n",
    "    else:\n",
    "        print(\"Проверьте введенные данные!\\n\")\n",
    "        return calc()"
   ]
  },
  {
   "cell_type": "markdown",
   "id": "47a04d7d",
   "metadata": {},
   "source": [
    "### Тест функции"
   ]
  },
  {
   "cell_type": "code",
   "execution_count": 5,
   "id": "8f63b678",
   "metadata": {},
   "outputs": [
    {
     "name": "stdout",
     "output_type": "stream",
     "text": [
      "Калькулятор.\n",
      "\n",
      "Введите первое число: 1\n",
      "Введите второе число: 2\n",
      "Введите знак для расчетов: +\n",
      "Результат: 3.0\n"
     ]
    }
   ],
   "source": [
    "calc() #сложение"
   ]
  },
  {
   "cell_type": "code",
   "execution_count": 6,
   "id": "84485efe",
   "metadata": {},
   "outputs": [
    {
     "name": "stdout",
     "output_type": "stream",
     "text": [
      "Калькулятор.\n",
      "\n",
      "Введите первое число: 1\n",
      "Введите второе число: 2\n",
      "Введите знак для расчетов: -\n",
      "Результат: -1.0\n"
     ]
    }
   ],
   "source": [
    "calc() #вычитание"
   ]
  },
  {
   "cell_type": "code",
   "execution_count": 7,
   "id": "eecf0cc8",
   "metadata": {},
   "outputs": [
    {
     "name": "stdout",
     "output_type": "stream",
     "text": [
      "Калькулятор.\n",
      "\n",
      "Введите первое число: 1\n",
      "Введите второе число: 2\n",
      "Введите знак для расчетов: *\n",
      "Результат: 2.0\n"
     ]
    }
   ],
   "source": [
    "calc() #умножение"
   ]
  },
  {
   "cell_type": "code",
   "execution_count": 8,
   "id": "e4184141",
   "metadata": {},
   "outputs": [
    {
     "name": "stdout",
     "output_type": "stream",
     "text": [
      "Калькулятор.\n",
      "\n",
      "Введите первое число: 1\n",
      "Введите второе число: 2\n",
      "Введите знак для расчетов: /\n",
      "Результат: 0.5\n"
     ]
    }
   ],
   "source": [
    "calc() #деление"
   ]
  },
  {
   "cell_type": "code",
   "execution_count": 9,
   "id": "0f94939b",
   "metadata": {},
   "outputs": [
    {
     "name": "stdout",
     "output_type": "stream",
     "text": [
      "Калькулятор.\n",
      "\n",
      "Введите первое число: 1\n",
      "Введите второе число: 0\n",
      "Введите знак для расчетов: /\n",
      "Деление на 0 невозможно.\n",
      "Проверьте введенные данные!\n",
      "\n",
      "Калькулятор.\n",
      "\n",
      "Введите первое число: 1\n",
      "Введите второе число: 1.5\n",
      "Введите знак для расчетов: +\n",
      "Результат: 2.5\n"
     ]
    }
   ],
   "source": [
    "calc() #деление на 0, проверка типа числа с плавающей точкой"
   ]
  },
  {
   "cell_type": "code",
   "execution_count": 10,
   "id": "aa672965",
   "metadata": {},
   "outputs": [
    {
     "name": "stdout",
     "output_type": "stream",
     "text": [
      "Калькулятор.\n",
      "\n",
      "Введите первое число: 1\n",
      "Введите второе число: -2.5\n",
      "Введите знак для расчетов: р\n",
      "Проверьте введенные данные!\n",
      "\n",
      "Калькулятор.\n",
      "\n",
      "Введите первое число: 1\n",
      "Введите второе число: -2.5\n",
      "Введите знак для расчетов: +\n",
      "Результат: -1.5\n"
     ]
    }
   ],
   "source": [
    "calc() #проверка работоспобности с отрицательными числами + проверка знака"
   ]
  },
  {
   "cell_type": "markdown",
   "id": "a7b099a6",
   "metadata": {},
   "source": [
    "##### 3)Считайте 2 строки и выведите их на печать, разделив символом $."
   ]
  },
  {
   "cell_type": "markdown",
   "id": "c6c5ab0e",
   "metadata": {},
   "source": [
    "Попробуйте решить эту задачу как минимум 2 способами:\n",
    "\n",
    "1) с помощью конкатенации строк\n",
    "2) с помощью указания разделителя в параметре sep метода print"
   ]
  },
  {
   "cell_type": "code",
   "execution_count": 11,
   "id": "994562d4",
   "metadata": {},
   "outputs": [
    {
     "name": "stdout",
     "output_type": "stream",
     "text": [
      "Введите первое слово: Екатерина\n",
      "Введите второе слово: Макарычева\n",
      "Результат:\n",
      "Екатерина$Макарычева\n"
     ]
    }
   ],
   "source": [
    "line_1 = str(input(\"Введите первое слово: \"))\n",
    "line_2 = str(input(\"Введите второе слово: \"))\n",
    "print(f\"Результат:\\n{line_1+'$'+line_2}\")"
   ]
  },
  {
   "cell_type": "code",
   "execution_count": 12,
   "id": "4a815471",
   "metadata": {},
   "outputs": [
    {
     "name": "stdout",
     "output_type": "stream",
     "text": [
      "Введите первое слово: Макарычева\n",
      "Введите второе слово: Екатерина\n",
      "Результат: \n",
      "Макарычева$Екатерина\n"
     ]
    }
   ],
   "source": [
    "line_3 = str(input(\"Введите первое слово: \"))\n",
    "line_4 = str(input(\"Введите второе слово: \"))\n",
    "print(\"Результат: \")\n",
    "print(line_3, line_4, sep=\"$\")"
   ]
  },
  {
   "cell_type": "markdown",
   "id": "e0090b8e",
   "metadata": {},
   "source": [
    "##### 4) Напишите поздравление с Днем рождения, где программа считает имя и возраст и выведет поздравление столько раз, сколько лет именнинику"
   ]
  },
  {
   "cell_type": "code",
   "execution_count": 13,
   "id": "b34bf19a",
   "metadata": {},
   "outputs": [
    {
     "name": "stdout",
     "output_type": "stream",
     "text": [
      "Введите Ваше имя: Екатерина\n",
      "Введите Ваш возраст: 22\n",
      "\n",
      "Поздравление № 1\n",
      "Поздравляю с днем рождения!\n",
      "\n",
      "Поздравление № 2\n",
      "Поздравляю с днем рождения!\n",
      "\n",
      "Поздравление № 3\n",
      "Поздравляю с днем рождения!\n",
      "\n",
      "Поздравление № 4\n",
      "Поздравляю с днем рождения!\n",
      "\n",
      "Поздравление № 5\n",
      "Поздравляю с днем рождения!\n",
      "\n",
      "Поздравление № 6\n",
      "Поздравляю с днем рождения!\n",
      "\n",
      "Поздравление № 7\n",
      "Поздравляю с днем рождения!\n",
      "\n",
      "Поздравление № 8\n",
      "Поздравляю с днем рождения!\n",
      "\n",
      "Поздравление № 9\n",
      "Поздравляю с днем рождения!\n",
      "\n",
      "Поздравление № 10\n",
      "Поздравляю с днем рождения!\n",
      "\n",
      "Поздравление № 11\n",
      "Поздравляю с днем рождения!\n",
      "\n",
      "Поздравление № 12\n",
      "Поздравляю с днем рождения!\n",
      "\n",
      "Поздравление № 13\n",
      "Поздравляю с днем рождения!\n",
      "\n",
      "Поздравление № 14\n",
      "Поздравляю с днем рождения!\n",
      "\n",
      "Поздравление № 15\n",
      "Поздравляю с днем рождения!\n",
      "\n",
      "Поздравление № 16\n",
      "Поздравляю с днем рождения!\n",
      "\n",
      "Поздравление № 17\n",
      "Поздравляю с днем рождения!\n",
      "\n",
      "Поздравление № 18\n",
      "Поздравляю с днем рождения!\n",
      "\n",
      "Поздравление № 19\n",
      "Поздравляю с днем рождения!\n",
      "\n",
      "Поздравление № 20\n",
      "Поздравляю с днем рождения!\n",
      "\n",
      "Поздравление № 21\n",
      "Поздравляю с днем рождения!\n",
      "\n",
      "Поздравление № 22\n",
      "Поздравляю с днем рождения!\n"
     ]
    }
   ],
   "source": [
    "name = str(input(\"Введите Ваше имя: \"))\n",
    "age = int(input(\"Введите Ваш возраст: \"))\n",
    "for num in range(age):\n",
    "    print(f\"\\nПоздравление № {num + 1}\") #ряд начинается с 0\n",
    "    print(\"Поздравляю с днем рождения!\")"
   ]
  }
 ],
 "metadata": {
  "celltoolbar": "Отсутствует",
  "kernelspec": {
   "display_name": "Python 3 (ipykernel)",
   "language": "python",
   "name": "python3"
  },
  "language_info": {
   "codemirror_mode": {
    "name": "ipython",
    "version": 3
   },
   "file_extension": ".py",
   "mimetype": "text/x-python",
   "name": "python",
   "nbconvert_exporter": "python",
   "pygments_lexer": "ipython3",
   "version": "3.9.12"
  }
 },
 "nbformat": 4,
 "nbformat_minor": 5
}
